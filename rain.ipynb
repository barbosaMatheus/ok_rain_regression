{
 "cells": [
  {
   "cell_type": "markdown",
   "metadata": {},
   "source": [
    "Introduction\n",
    "===============\n",
    "\n",
    "PRISM provides precipitation data based on location, as far back as 1981.\n",
    "This dataset was generated with the parameters:\n",
    "* Location:  Lat: 35.5515   Lon: -97.4072   Elev: 1171ft\n",
    "* Climate variables: ppt,tmin,tmean,tmax,tdmean,vpdmin,vpdmax\n",
    "* Spatial resolution: 4km\n",
    "* Period: 1981-01-01 - 2022-12-31\n",
    "* Dataset: AN91d\n",
    "* PRISM day definition: 24 hours ending at 1200 UTC on the day shown\n",
    "* Grid Cell Interpolation: Off\n",
    "\n",
    "This notebook is intended to demo the data analysis and data modelling process as a part of a portfolio. The ultimate goal is to be able to predict total precipitation (rain + melted snow). \n",
    "\\\n",
    "Feature Explanation\n",
    "--------------------\n",
    "\n",
    "| Name   | Description                                                                                                           | Units |\n",
    "| ------ | --------------------------------------------------------------------------------------------------------------------- | ----- |\n",
    "| ppt    | Total precipitation (rain+melted snow) for the day                                                                    | in    |\n",
    "| tmin   | Minimum temperature for the day                                                                                       | F     |\n",
    "| tmean  | Mean temperature for the day (tmax+tmin)/2                                                                            | F     |\n",
    "| tmax   | Maximum temperature for the day                                                                                       | F     |\n",
    "| tdmean | Mean dewpoint temperature (analogous to humidity and comfort)                                                         | F     |\n",
    "| vpdmin | Minimum difference between the amount of vapor in the air, versus the total amount it can hold (relative to humidity) | hPa   |\n",
    "| vpdmax | Maximum difference between the amount of vapor in the air, versus the total amount it can hold (relative to humidity) | hPa   |"
   ]
  },
  {
   "cell_type": "code",
   "execution_count": 14,
   "metadata": {},
   "outputs": [],
   "source": [
    "import pandas as pd\n",
    "import numpy as np\n",
    "from sklearn.preprocessing import StandardScaler\n",
    "from sklearn.metrics import mean_absolute_error\n",
    "from matplotlib import pyplot as plt\n",
    "import utils"
   ]
  },
  {
   "cell_type": "code",
   "execution_count": 12,
   "metadata": {},
   "outputs": [
    {
     "name": "stdout",
     "output_type": "stream",
     "text": [
      "       year  month  day  jul_day  min_temp  mean_temp  max_temp  dewpoint  \\\n",
      "0      1981      1    1        1      36.8       49.6      62.5      30.2   \n",
      "1      1981      1    2        2      28.0       41.6      55.2      24.4   \n",
      "2      1981      1    3        3      26.2       40.7      55.1      27.5   \n",
      "3      1981      1    4        4      20.0       33.0      45.9      22.1   \n",
      "4      1981      1    5        5      20.2       31.0      41.9      14.8   \n",
      "...     ...    ...  ...      ...       ...        ...       ...       ...   \n",
      "15335  2022     12   27      361      16.2       31.2      46.1      16.3   \n",
      "15336  2022     12   28      362      18.1       34.5      50.9      21.2   \n",
      "15337  2022     12   29      363      43.8       55.8      67.9      39.0   \n",
      "15338  2022     12   30      364      34.3       50.3      66.3      32.1   \n",
      "15339  2022     12   31      365      31.1       44.0      56.8      33.3   \n",
      "\n",
      "       vpd_min  vpd_max  precip  \n",
      "0         2.10    13.32     0.0  \n",
      "1         1.37    10.40     0.0  \n",
      "2         1.07    10.06     0.0  \n",
      "3         0.85     5.23     0.0  \n",
      "4         1.01     6.10     0.0  \n",
      "...        ...      ...     ...  \n",
      "15335     0.62     5.29     0.0  \n",
      "15336     0.81     8.56     0.0  \n",
      "15337     4.39    16.12     0.0  \n",
      "15338     0.79    17.87     0.0  \n",
      "15339     0.33     9.31     0.0  \n",
      "\n",
      "[15340 rows x 11 columns]\n",
      "<class 'pandas.core.frame.DataFrame'>\n",
      "RangeIndex: 15340 entries, 0 to 15339\n",
      "Data columns (total 11 columns):\n",
      " #   Column     Non-Null Count  Dtype  \n",
      "---  ------     --------------  -----  \n",
      " 0   year       15340 non-null  int32  \n",
      " 1   month      15340 non-null  int32  \n",
      " 2   day        15340 non-null  int32  \n",
      " 3   jul_day    15340 non-null  int32  \n",
      " 4   min_temp   15340 non-null  float64\n",
      " 5   mean_temp  15340 non-null  float64\n",
      " 6   max_temp   15340 non-null  float64\n",
      " 7   dewpoint   15340 non-null  float64\n",
      " 8   vpd_min    15340 non-null  float64\n",
      " 9   vpd_max    15340 non-null  float64\n",
      " 10  precip     15340 non-null  float64\n",
      "dtypes: float64(7), int32(4)\n",
      "memory usage: 1.1 MB\n"
     ]
    }
   ],
   "source": [
    "\"\"\"\n",
    "First thing we want to do is read in the dataframe,\n",
    "clean up the column names and move them in the order\n",
    "that we want. We also want to decode the date and\n",
    "extract the information from it.\n",
    "\"\"\"\n",
    "df = pd.read_csv(\"prism_ok_country_precip_data.csv\")\n",
    "col_names = [\"date\",\"precip\",\"min_temp\",\"mean_temp\",\"max_temp\",\"dewpoint\",\"vpd_min\",\"vpd_max\"]\n",
    "df.columns = col_names\n",
    "df.loc[:,\"year\"] = pd.DatetimeIndex(df[\"date\"]).year\n",
    "df.loc[:,\"month\"] = pd.DatetimeIndex(df[\"date\"]).month\n",
    "df.loc[:,\"day\"] = pd.DatetimeIndex(df[\"date\"]).day\n",
    "df.loc[:,\"jul_day\"] = pd.DatetimeIndex(df[\"date\"]).dayofyear\n",
    "col_order = [\"year\",\"month\",\"day\",\"jul_day\",\"min_temp\",\"mean_temp\",\"max_temp\",\"dewpoint\",\"vpd_min\",\"vpd_max\",\"precip\"]\n",
    "df = df.loc[:,col_order]\n",
    "print(df)\n",
    "df.info()\n",
    "df.to_csv(\"rain.csv\", index=False)"
   ]
  },
  {
   "cell_type": "code",
   "execution_count": 13,
   "metadata": {},
   "outputs": [
    {
     "name": "stdout",
     "output_type": "stream",
     "text": [
      "               year         month           day       jul_day      min_temp  \\\n",
      "count  15340.000000  15340.000000  15340.000000  15340.000000  15340.000000   \n",
      "mean    2001.500326      6.523077     15.729205    183.119296     50.128038   \n",
      "std       12.120919      3.448775      8.800196    105.438628     17.919648   \n",
      "min     1981.000000      1.000000      1.000000      1.000000    -10.800000   \n",
      "25%     1991.000000      4.000000      8.000000     92.000000     35.500000   \n",
      "50%     2001.500000      7.000000     16.000000    183.000000     50.900000   \n",
      "75%     2012.000000     10.000000     23.000000    274.000000     66.400000   \n",
      "max     2022.000000     12.000000     31.000000    366.000000     85.900000   \n",
      "\n",
      "          mean_temp      max_temp      dewpoint       vpd_min       vpd_max  \\\n",
      "count  15340.000000  15340.000000  15340.000000  15340.000000  15340.000000   \n",
      "mean      60.747106     71.371076     47.666173      2.192583     17.431450   \n",
      "std       17.958043     18.687281     17.427147      2.374774     11.852896   \n",
      "min       -3.700000      3.300000    -16.000000      0.000000      0.140000   \n",
      "25%       47.000000     58.200000     33.400000      0.610000      8.317500   \n",
      "50%       62.300000     73.900000     49.500000      1.380000     15.570000   \n",
      "75%       76.400000     86.700000     63.900000      2.920000     24.230000   \n",
      "max       98.400000    111.600000     75.900000     26.260000     81.050000   \n",
      "\n",
      "             precip  \n",
      "count  15340.000000  \n",
      "mean       0.101733  \n",
      "std        0.326377  \n",
      "min        0.000000  \n",
      "25%        0.000000  \n",
      "50%        0.000000  \n",
      "75%        0.010000  \n",
      "max        7.110000  \n"
     ]
    }
   ],
   "source": [
    "\"\"\"\n",
    "Now we can start to look at the condition of the\n",
    "data, as well as some descriptive stats.\n",
    "\"\"\"\n",
    "df = pd.read_csv(\"rain.csv\")\n",
    "print(df.describe())"
   ]
  },
  {
   "cell_type": "code",
   "execution_count": null,
   "metadata": {},
   "outputs": [],
   "source": [
    "\"\"\"\n",
    "We can see the temperatures seem to be within reasonable ranges.\n",
    "This information is for Oklahoma County and as a resident I can\n",
    "use subject knowledge to say that the temperatures are within\n",
    "reason. If any outliers are present, they are not errors and are\n",
    "true data points that happen to be outliers.\n",
    "\n",
    "The dewpoint and VPD min/max are something I do not have subject\n",
    "knowledge of. So we will take a closer look at these to see the\n",
    "spreads.\n",
    "\n",
    "We can also see from the quantiles that the precipitation is\n",
    "right-skewed and there may be some high outliers. We are not\n",
    "concerned about fixing the skew, as this is our target \n",
    "variable, but we need to make concious choices when splitting\n",
    "the data.\n",
    "\"\"\"\n",
    "cols = [\"dewpoint\",\"vpd_min\",\"vpd_max\",\"precip\"]\n"
   ]
  }
 ],
 "metadata": {
  "kernelspec": {
   "display_name": "Python 3",
   "language": "python",
   "name": "python3"
  },
  "language_info": {
   "codemirror_mode": {
    "name": "ipython",
    "version": 3
   },
   "file_extension": ".py",
   "mimetype": "text/x-python",
   "name": "python",
   "nbconvert_exporter": "python",
   "pygments_lexer": "ipython3",
   "version": "3.11.9"
  }
 },
 "nbformat": 4,
 "nbformat_minor": 2
}
