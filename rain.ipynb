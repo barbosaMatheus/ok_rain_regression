{
 "cells": [
  {
   "cell_type": "markdown",
   "metadata": {},
   "source": [
    "Introduction\n",
    "===============\n",
    "\n",
    "PRISM provides precipitation data based on location, as far back as 1981.\n",
    "This dataset was generated with the parameters:\n",
    "* Location:  Lat: 35.5515   Lon: -97.4072   Elev: 1171ft\n",
    "* Climate variables: ppt,tmin,tmean,tmax,tdmean,vpdmin,vpdmax\n",
    "* Spatial resolution: 4km\n",
    "* Period: 1981-01-01 - 2022-12-31\n",
    "* Dataset: AN91d\n",
    "* PRISM day definition: 24 hours ending at 1200 UTC on the day shown\n",
    "* Grid Cell Interpolation: Off\n",
    "\n",
    "This notebook is intended to demo the data analysis and data modelling process as a part of a portfolio. The ultimate goal is to be able to predict total precipitation (rain + melted snow). \n",
    "\\\n",
    "Feature Explanation\n",
    "--------------------\n",
    "\n",
    "| Name   | Description                                                                                                           | Units |\n",
    "| ------ | --------------------------------------------------------------------------------------------------------------------- | ----- |\n",
    "| ppt    | Total precipitation (rain+melted snow) for the day                                                                    | in    |\n",
    "| tmin   | Minimum temperature for the day                                                                                       | F     |\n",
    "| tmean  | Mean temperature for the day (tmax+tmin)/2                                                                            | F     |\n",
    "| tmax   | Maximum temperature for the day                                                                                       | F     |\n",
    "| tdmean | Mean dewpoint temperature (analogous to humidity and comfort)                                                         | F     |\n",
    "| vpdmin | Minimum difference between the amount of vapor in the air, versus the total amount it can hold (relative to humidity) | hPa   |\n",
    "| vpdmax | Maximum difference between the amount of vapor in the air, versus the total amount it can hold (relative to humidity) | hPa   |"
   ]
  }
 ],
 "metadata": {
  "language_info": {
   "name": "python"
  }
 },
 "nbformat": 4,
 "nbformat_minor": 2
}
